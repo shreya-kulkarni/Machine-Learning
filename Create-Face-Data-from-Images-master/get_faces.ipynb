{
 "cells": [
  {
   "cell_type": "code",
   "execution_count": null,
   "metadata": {},
   "outputs": [],
   "source": [
    "# Import libraries\n",
    "import os\n",
    "import cv2\n",
    "import numpy as np\n",
    "\n",
    "# Define paths\n",
    "base_dir = os.path.dirname('images')\n",
    "prototxt_path = os.path.join(base_dir + 'model_data/deploy.prototxt')\n",
    "caffemodel_path = os.path.join(base_dir + 'model_data/weights.caffemodel')\n",
    "\n",
    "# Read the model\n",
    "model = cv2.dnn.readNetFromCaffe(prototxt_path, caffemodel_path)\n",
    "\n",
    "# Create directory 'faces' if it does not exist\n",
    "if not os.path.exists('faces'):\n",
    "\tprint(\"New directory created\")\n",
    "\tos.makedirs('faces')\n",
    "\n",
    "# Loop through all images and strip out faces\n",
    "count = 0\n",
    "for file in os.listdir(base_dir + 'images'):\n",
    "\tfile_name, file_extension = os.path.splitext(file)\n",
    "\tif (file_extension in ['.png','.jpg']):\n",
    "\t\timage = cv2.imread(base_dir + 'images/' + file)\n",
    "\n",
    "\t\t(h, w) = image.shape[:2]\n",
    "\t\tblob = cv2.dnn.blobFromImage(cv2.resize(image, (300, 300)), 1.0, (300, 300), (104.0, 177.0, 123.0))\n",
    "\n",
    "\t\tmodel.setInput(blob)\n",
    "\t\tdetections = model.forward()\n",
    "\n",
    "\t\t# Identify each face\n",
    "\t\tfor i in range(0, detections.shape[2]):\n",
    "\t\t\tbox = detections[0, 0, i, 3:7] * np.array([w, h, w, h])\n",
    "\t\t\t(startX, startY, endX, endY) = box.astype(\"int\")\n",
    "\n",
    "\t\t\tconfidence = detections[0, 0, i, 2]\n",
    "\n",
    "\t\t\t# If confidence > 0.5, save it as a separate file\n",
    "\t\t\tif (confidence > 0.5):\n",
    "\t\t\t\tcount += 1\n",
    "\t\t\t\tframe = image[startY:endY, startX:endX]\n",
    "\t\t\t\tcv2.imwrite(base_dir + 'faces/' + str(i) + '_' + file, frame)\n",
    "\n",
    "print(\"Extracted \" + str(count) + \" faces from all images\")"
   ]
  }
 ],
 "metadata": {
  "kernelspec": {
   "display_name": "Python 3",
   "language": "python",
   "name": "python3"
  },
  "language_info": {
   "codemirror_mode": {
    "name": "ipython",
    "version": 3
   },
   "file_extension": ".py",
   "mimetype": "text/x-python",
   "name": "python",
   "nbconvert_exporter": "python",
   "pygments_lexer": "ipython3",
   "version": "3.6.9"
  }
 },
 "nbformat": 4,
 "nbformat_minor": 4
}
