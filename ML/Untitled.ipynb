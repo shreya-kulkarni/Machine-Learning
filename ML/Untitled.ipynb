{
 "cells": [
  {
   "cell_type": "code",
   "execution_count": 8,
   "metadata": {},
   "outputs": [],
   "source": [
    "import cv2 \n",
    "import os \n",
    "import math"
   ]
  },
  {
   "cell_type": "code",
   "execution_count": 9,
   "metadata": {},
   "outputs": [],
   "source": [
    "class FrameExtractor():\n",
    "    '''\n",
    "    Class used for extracting frames from a video file.\n",
    "    '''\n",
    "    def __init__(self, video_path):\n",
    "        self.video_path = video_path\n",
    "        self.vid_cap = cv2.VideoCapture(video_path)\n",
    "        self.n_frames = int(self.vid_cap.get(cv2.CAP_PROP_FRAME_COUNT))\n",
    "        self.fps = int(self.vid_cap.get(cv2.CAP_PROP_FPS))\n",
    "        \n",
    "    def get_video_duration(self):\n",
    "        duration = self.n_frames/self.fps\n",
    "        print(f'Duration: {datetime.timedelta(seconds=duration)}')\n",
    "        \n",
    "    def get_n_images(self, every_x_frame):\n",
    "        n_images = math.floor(self.n_frames / every_x_frame) + 1\n",
    "        print(f'Extracting every {every_x_frame} (nd/rd/th) frame would result in {n_images} images.')\n",
    "        \n",
    "    def extract_frames(self, every_x_frame, img_name, dest_path=None, img_ext = '.jpg'):\n",
    "        if not self.vid_cap.isOpened():\n",
    "            self.vid_cap = cv2.VideoCapture(self.video_path)\n",
    "        \n",
    "        if dest_path is None:\n",
    "            dest_path = os.getcwd()\n",
    "        else:\n",
    "            if not os.path.isdir(dest_path):\n",
    "                os.mkdir(dest_path)\n",
    "                print(f'Created the following directory: {dest_path}')\n",
    "        \n",
    "        frame_cnt = 0\n",
    "        img_cnt = 0\n",
    "\n",
    "        while self.vid_cap.isOpened():\n",
    "            \n",
    "            success,image = self.vid_cap.read() \n",
    "            \n",
    "            if not success:\n",
    "                break\n",
    "            \n",
    "            if frame_cnt % every_x_frame == 0:\n",
    "                img_path = os.path.join(dest_path, ''.join([img_name, '_', str(img_cnt), img_ext]))\n",
    "                cv2.imwrite(img_path, image)  \n",
    "                img_cnt += 1\n",
    "                \n",
    "            frame_cnt += 1\n",
    "        \n",
    "        self.vid_cap.release()\n",
    "        cv2.destroyAllWindows()"
   ]
  },
  {
   "cell_type": "code",
   "execution_count": 10,
   "metadata": {},
   "outputs": [
    {
     "name": "stdout",
     "output_type": "stream",
     "text": [
      "Extracting every 1000 (nd/rd/th) frame would result in 18 images.\n",
      "Created the following directory: speaker_images\n"
     ]
    }
   ],
   "source": [
    "fe = FrameExtractor('YouTube.mp4')\n",
    "#fe.get_video_duration()\n",
    "fe.get_n_images(every_x_frame=1000)\n",
    "fe.extract_frames(every_x_frame=1000, \n",
    "                  img_name='speaker', \n",
    "                  dest_path='speaker_images')"
   ]
  },
  {
   "cell_type": "code",
   "execution_count": null,
   "metadata": {},
   "outputs": [],
   "source": []
  }
 ],
 "metadata": {
  "kernelspec": {
   "display_name": "Python 3",
   "language": "python",
   "name": "python3"
  },
  "language_info": {
   "codemirror_mode": {
    "name": "ipython",
    "version": 3
   },
   "file_extension": ".py",
   "mimetype": "text/x-python",
   "name": "python",
   "nbconvert_exporter": "python",
   "pygments_lexer": "ipython3",
   "version": "3.6.9"
  }
 },
 "nbformat": 4,
 "nbformat_minor": 4
}
